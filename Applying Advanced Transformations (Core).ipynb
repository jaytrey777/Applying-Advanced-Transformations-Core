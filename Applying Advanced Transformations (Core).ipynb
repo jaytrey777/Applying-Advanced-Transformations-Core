{
 "cells": [
  {
   "cell_type": "markdown",
   "id": "9140bc11",
   "metadata": {},
   "source": [
    "# The Data\n",
    "You will be working with a heavily modified version of the Superheroes dataset from Kaggle.\n",
    "\n",
    "The dataset includes two csv files:\n",
    "\n",
    "[superhero_info.csv](https://docs.google.com/spreadsheets/d/e/2PACX-1vS1ZstYLwFgwhZnqDsPjtnlHYhJp_cmW55J8JD5mym0seRsaem3px7QBtuFF0LiI7z1PLCkVKAkdO7J/pub?output=csv) - \n",
    "Contains Name, Publisher, Demographic Info, and Body measurements.\n",
    "\n",
    "[superhero_powers.csv](https://docs.google.com/spreadsheets/d/e/2PACX-1vSzdWOBaXOoz52vPmCFV5idNlDBohLY1Lsbc1IfZIZQ7cV_aNB2wYBfhF49uE1TaO1B5MQCGWiNrFfd/pub?output=csv) - \n",
    "Contains Hero's Name and Powers List"
   ]
  },
  {
   "cell_type": "markdown",
   "id": "22b15cad",
   "metadata": {},
   "source": [
    "# The Tasks\n",
    "\n",
    "1. Clean the files and combine them into one final DataFrame.\n",
    "\n",
    "    This dataframe should have the following columns:\n",
    "    Hero (Just the name of the Hero)\n",
    "    Publisher\n",
    "    Gender\n",
    "    Eye color\n",
    "    Race\n",
    "    Hair color\n",
    "    Height (numeric)\n",
    "    Skin color\n",
    "    Alignment\n",
    "    Weight (numeric)\n",
    "    Plus, one-hot-encoded columns for every power that appears in the dataset. E.g.:\n",
    "    Agility\n",
    "    Flight\n",
    "    Superspeed\n",
    "    etc.\n",
    "\n",
    "Hint: There is a space in \"100 kg\" or \"52.5 cm\"\n",
    "\n",
    "\n",
    "\n",
    "2. Use your combined DataFrame to answer the following questions.\n",
    "\n",
    "- Compare the average weight of super powers who have Super Speed to those who do not.\n",
    "- What is the average height of heroes for each publisher?"
   ]
  },
  {
   "cell_type": "markdown",
   "id": "cf589750",
   "metadata": {},
   "source": [
    "# Imports"
   ]
  },
  {
   "cell_type": "code",
   "execution_count": 2,
   "id": "b3c4570d",
   "metadata": {},
   "outputs": [],
   "source": [
    "import pandas as pd\n",
    "import numpy as np\n",
    "import seaborn as sns"
   ]
  },
  {
   "cell_type": "code",
   "execution_count": null,
   "id": "6b1a84df",
   "metadata": {},
   "outputs": [],
   "source": []
  }
 ],
 "metadata": {
  "kernelspec": {
   "display_name": "Python (dojo-env)",
   "language": "python",
   "name": "dojo-env"
  },
  "language_info": {
   "codemirror_mode": {
    "name": "ipython",
    "version": 3
   },
   "file_extension": ".py",
   "mimetype": "text/x-python",
   "name": "python",
   "nbconvert_exporter": "python",
   "pygments_lexer": "ipython3",
   "version": "3.9.15"
  },
  "toc": {
   "base_numbering": 1,
   "nav_menu": {},
   "number_sections": false,
   "sideBar": true,
   "skip_h1_title": false,
   "title_cell": "Table of Contents",
   "title_sidebar": "Contents",
   "toc_cell": false,
   "toc_position": {},
   "toc_section_display": true,
   "toc_window_display": false
  }
 },
 "nbformat": 4,
 "nbformat_minor": 5
}
